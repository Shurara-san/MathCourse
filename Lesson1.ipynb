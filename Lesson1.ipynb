{
 "cells": [
  {
   "cell_type": "markdown",
   "metadata": {},
   "source": [
    "## Задание 1\n",
    "\n",
    "$$ \n",
    "7 \\begin{bmatrix}\n",
    "\t5 & 10\\\\\n",
    "\t7 & 12\\\\\n",
    "\t11.3 & 5\\\\\n",
    "\t25 & 30\n",
    "\\end{bmatrix} + \n",
    "2 \\begin{bmatrix}\n",
    "    5 & 10\\\\\n",
    "    7 & 12\\\\\n",
    "    11.3 & 5\\\\\n",
    "    25 & 30\n",
    "   \\end{bmatrix} =\n",
    "9 \\begin{bmatrix}\n",
    "\t5 & 10\\\\\n",
    "\t7 & 12\\\\\n",
    "\t11.3 & 5\\\\\n",
    "\t25 & 30\n",
    "\\end{bmatrix} =\n",
    "\\begin{bmatrix}\n",
    "\t45 & 90\\\\\n",
    "\t63 & 102\\\\\n",
    "\t101.7 & 45\\\\\n",
    "\t215 & 270\n",
    "\\end{bmatrix} \n",
    "$$"
   ]
  },
  {
   "cell_type": "markdown",
   "metadata": {},
   "source": [
    "## Задание 2\n",
    "\n",
    "\\begin{equation*}\n",
    "\t\\begin{cases}\n",
    "\t\t3x - 2y + 5z = 7  \\ \\ \\ \\ \\ \\ \\ \\ \\ \\ (1) \n",
    "\t\t\\\\\n",
    "\t\t7x + 4y - 8z = 3  \\ \\ \\ \\ \\ \\ \\ \\ \\ \\ (2)\n",
    "\t\t\\\\\n",
    "\t\t5x - 3y - 4z = -12  \\ \\ \\ \\ \\ \\ \\ (3)\n",
    "\t\\end{cases}\n",
    "\t\\end{equation*}\n",
    "\n",
    "$$ (3) + (2): 12x + 9 = -y + 12z \\Rightarrow 12x + 12z = -9 - y \\Rightarrow y = -9 - 12(x+z)$$\n",
    "\n",
    "\\begin{equation*}\n",
    "\t\\begin{cases}\n",
    "\t\t3x + 2(9 + 12(x+z)) + 5z = 7 \n",
    "\t\t\\\\\n",
    "\t\t7x - 4(9 + 12(x+z)) - 8z = 3\n",
    "\t\t\\\\\n",
    "\t\t5x + 3(9 + 12(x+z)) - 4z = -12\n",
    "\t\\end{cases}\n",
    "\\end{equation*}\n",
    "\n",
    "\\begin{equation*}\n",
    "\t\\begin{cases}\n",
    "\t\t27x + 29z = -11 \\ \\ (1^*) \n",
    "\t\t\\\\\n",
    "\t\t-41x - 56z = 39 \\ \\ (2^*)\n",
    "\t\t\\\\\n",
    "\t\t41x + 32z = -39 \\ \\ (3^*)\n",
    "\t\\end{cases}\n",
    "\\end{equation*}\n",
    "\n",
    "$$(2^*) + (3^*): -24z = 0 \\Rightarrow z = 0 \\Rightarrow^{(1^*)} x = -\\frac{11}{27} \\Rightarrow$$\n",
    "\n",
    "$$\\Rightarrow y = -9 - 12(-\\frac{11}{27} + 0) \\Rightarrow y = -\\frac{111}{27}$$\n",
    "\n",
    "Проверка: $(1): -\\frac{33}{27} + \\frac{222}{27} = \\frac{189}{27} = 7$\n",
    "\n",
    "#### Ответ: $x = -\\frac{11}{27}, y = -\\frac{111}{27}, z = 0$.\n",
    "\n",
    "#### Это линейная система уравнений, так как каждое из её уравнений линейно"
   ]
  },
  {
   "cell_type": "markdown",
   "metadata": {},
   "source": [
    "## Задание 3\n",
    "\n",
    "\\begin{equation*}\n",
    "\t\\begin{cases}\n",
    "\t\tx^2 + xy - 9 = 0 \\ \\ (1) \n",
    "\t\t\\\\\n",
    "\t\tx - \\frac{y}{5} = 0 \\ \\ \\ \\ \\ \\ \\ \\ \\ \\ (2)\n",
    "\t\\end{cases}\n",
    "\\end{equation*}\n",
    "\n",
    "\n",
    "$$(2) \\Rightarrow y = 5x$$\n",
    "$$(1): x^2 + 5x^2 = 9 \\Rightarrow x^2 = \\frac{3}{2} \\Rightarrow x = \\pm \\sqrt{\\frac{3}{2}} \\Rightarrow y = \\mp 5\\sqrt{\\frac{3}{2}}$$\n",
    "$$(x_1,y_1) = (-\\sqrt{\\frac{3}{2}}, 5\\sqrt{\\frac{3}{2}}); (x_2,y_2) = (\\sqrt{\\frac{3}{2}}, -5\\sqrt{\\frac{3}{2}})$$\n",
    "\n",
    "Проверка: $(1): \\sqrt{\\frac{3}{2}} + 5\\sqrt{\\frac{3}{2}} = 9$\n",
    "\n",
    "#### Ответ: $(x_1,y_1) = (-\\sqrt{\\frac{3}{2}}, 5\\sqrt{\\frac{3}{2}}); (x_2,y_2) = (\\sqrt{\\frac{3}{2}}, -5\\sqrt{\\frac{3}{2}})$.\n",
    "\n",
    "#### Это нелинейная система уравнений, так как второе уравнение системы нелинейное. Первое уравнение системы линейно."
   ]
  },
  {
   "cell_type": "markdown",
   "metadata": {},
   "source": [
    "## Задание 4\n",
    "\n",
    "Площадь пола прямоугольной комнаты равна 48 м$^2$,а его периметр равен 28 м. Найдите длину и ширину комнаты.\n",
    "\n",
    "\\begin{equation*}\n",
    "\t\\begin{cases}\n",
    "\t\tab = 48 \\ \\  \\ \\ \\ \\ \\ (1) \n",
    "\t\t\\\\\n",
    "\t\t2a + 2b = 28 \\ (2)\n",
    "\t\\end{cases}\n",
    "\\end{equation*}\n",
    "\n",
    "$$(2): a = 14-b \\Rightarrow^{(1)} b^2 - 14b + 48 \\Rightarrow b_1 = 8, b_2 = 6 \\Rightarrow a_1 = 6, a_2 = 8$$\n",
    "\n",
    "#### Ответ: Либо длина комнаты равна 8, а ширина 6, либо наоборот.\n"
   ]
  },
  {
   "cell_type": "code",
   "execution_count": 1,
   "metadata": {},
   "outputs": [],
   "source": [
    "import matplotlib.pyplot as plt\n",
    "import numpy as np"
   ]
  },
  {
   "cell_type": "code",
   "execution_count": 2,
   "metadata": {},
   "outputs": [
    {
     "data": {
      "image/png": "[encoded data removed]",
      "text/plain": [
       "<Figure size 432x288 with 1 Axes>"
      ]
     },
     "metadata": {
      "needs_background": "light"
     },
     "output_type": "display_data"
    }
   ],
   "source": [
    "def y(k,x):\n",
    "    return np.cos(k*x)\n",
    "\n",
    "x = np.arange(0., 5., 0.0002)\n",
    "\n",
    "plt.plot(y(1,x), 'r--', y(3,x), 'g--')\n",
    "plt.show()"
   ]
  }
 ],
 "metadata": {
  "kernelspec": {
   "display_name": "Python 3",
   "language": "python",
   "name": "python3"
  },
  "language_info": {
   "codemirror_mode": {
    "name": "ipython",
    "version": 3
   },
   "file_extension": ".py",
   "mimetype": "text/x-python",
   "name": "python",
   "nbconvert_exporter": "python",
   "pygments_lexer": "ipython3",
   "version": "3.8.3"
  }
 },
 "nbformat": 4,
 "nbformat_minor": 4
}
